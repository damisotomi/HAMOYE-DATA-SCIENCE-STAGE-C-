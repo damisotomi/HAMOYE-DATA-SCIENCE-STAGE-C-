{
 "cells": [
  {
   "cell_type": "code",
   "execution_count": 1,
   "metadata": {},
   "outputs": [],
   "source": [
    "#importing libraries\n",
    "import pandas as pd\n",
    "import numpy as np\n",
    "from sklearn.metrics import recall_score,accuracy_score,precision_score,f1_score,confusion_matrix\n",
    "\n",
    "#reading the file and droppping the stab columns\n",
    "data=pd.read_csv('Data_for_UCI_named.csv')\n",
    "data=data.drop(columns=['stab'])\n",
    "\n",
    "#creating the features and target variable\n",
    "x=data.drop(columns=['stabf'])\n",
    "y=data['stabf']\n",
    "\n",
    "#splitting the data into train and test\n",
    "from sklearn.model_selection import train_test_split\n",
    "x_train,x_test,y_train,y_test=train_test_split(x,y,test_size=0.2,random_state=1)\n",
    "\n",
    "#standard scaling the x_train data\n",
    "from sklearn.preprocessing import StandardScaler\n",
    "sc=StandardScaler()\n",
    "standard_train_df=sc.fit_transform(x_train)\n",
    "standard_train_df=pd.DataFrame(standard_train_df,columns=x_train.columns)\n",
    "\n",
    "#standard scaling the x_test data\n",
    "standard_test_df=sc.transform(x_test)\n",
    "standard_test_df=pd.DataFrame(standard_test_df,columns=x_test.columns)"
   ]
  },
  {
   "cell_type": "markdown",
   "metadata": {},
   "source": [
    "## QUESTION 14"
   ]
  },
  {
   "cell_type": "code",
   "execution_count": 2,
   "metadata": {},
   "outputs": [
    {
     "name": "stdout",
     "output_type": "stream",
     "text": [
      "0.929\n"
     ]
    }
   ],
   "source": [
    "#RANDOM FOREST CLASSIFIER\n",
    "from sklearn.ensemble import RandomForestClassifier\n",
    "rfc=RandomForestClassifier(random_state=1)\n",
    "rfc.fit(standard_train_df,y_train)\n",
    "\n",
    "new_predictions=rfc.predict(standard_test_df)\n",
    "\n",
    "#accuracy\n",
    "accuracy=accuracy_score(y_true=y_test,y_pred=new_predictions)\n",
    "print(round(accuracy,4))\n",
    "\n"
   ]
  },
  {
   "cell_type": "markdown",
   "metadata": {},
   "source": [
    "##   QUESTION 15"
   ]
  },
  {
   "cell_type": "code",
   "execution_count": 3,
   "metadata": {},
   "outputs": [
    {
     "name": "stdout",
     "output_type": "stream",
     "text": [
      "0.9195\n"
     ]
    }
   ],
   "source": [
    "# XGB CLASSIFIER\n",
    "from xgboost import XGBClassifier \n",
    "xgb=XGBClassifier(random_state=1,max_depth=3,learning_rate=0.1)\n",
    "xgb.fit(standard_train_df,y_train)\n",
    "\n",
    "\n",
    "new_predictions=xgb.predict(standard_test_df)\n",
    "\n",
    "#ACCURACY\n",
    "accuracy=accuracy_score(y_true=y_test,y_pred=new_predictions)\n",
    "print(round(accuracy,4))\n"
   ]
  },
  {
   "cell_type": "markdown",
   "metadata": {},
   "source": [
    "## QUESTION 16"
   ]
  },
  {
   "cell_type": "code",
   "execution_count": 4,
   "metadata": {},
   "outputs": [
    {
     "name": "stdout",
     "output_type": "stream",
     "text": [
      "0.9375\n"
     ]
    }
   ],
   "source": [
    "# LGBM CLASSIFIER\n",
    "\n",
    "from lightgbm import LGBMClassifier\n",
    "lgbm=LGBMClassifier(random_state=1)\n",
    "lgbm.fit(standard_train_df,y_train)\n",
    "\n",
    "new_predictions=lgbm.predict(standard_test_df)\n",
    "\n",
    "#accuracy\n",
    "accuracy=accuracy_score(y_true=y_test,y_pred=new_predictions)\n",
    "print(round(accuracy,4))\n",
    "\n"
   ]
  },
  {
   "cell_type": "markdown",
   "metadata": {},
   "source": [
    "## QUESTION 17"
   ]
  },
  {
   "cell_type": "code",
   "execution_count": 6,
   "metadata": {},
   "outputs": [
    {
     "name": "stdout",
     "output_type": "stream",
     "text": [
      "Fitting 5 folds for each of 10 candidates, totalling 50 fits\n"
     ]
    },
    {
     "name": "stderr",
     "output_type": "stream",
     "text": [
      "[Parallel(n_jobs=-1)]: Using backend LokyBackend with 2 concurrent workers.\n",
      "[Parallel(n_jobs=-1)]: Done  46 tasks      | elapsed:  3.8min\n",
      "[Parallel(n_jobs=-1)]: Done  50 out of  50 | elapsed:  4.1min finished\n"
     ]
    },
    {
     "name": "stdout",
     "output_type": "stream",
     "text": [
      "[[ 598  114]\n",
      " [  15 1273]]\n",
      "Accuracy: 94\n",
      "precision:92\n",
      "Recall:99\n",
      "F1:95\n"
     ]
    }
   ],
   "source": [
    "from sklearn.model_selection import RandomizedSearchCV\n",
    "from sklearn.ensemble import ExtraTreesClassifier\n",
    "\n",
    "n_estimators = [50, 100, 300, 500, 1000]\n",
    "min_samples_split = [2, 3, 5, 7, 9]\n",
    "min_samples_leaf = [1, 2, 4, 6, 8]\n",
    "max_features = ['auto', 'sqrt', 'log2', None]\n",
    "hyperparameter_grid = {'n_estimators': n_estimators,'min_samples_leaf': min_samples_leaf,\n",
    "                       'min_samples_split': min_samples_split,'max_features': max_features}\n",
    "\n",
    "\n",
    "clf=RandomizedSearchCV(ExtraTreesClassifier(random_state=1),hyperparameter_grid,cv=5,\n",
    "                       n_iter=10,scoring='accuracy',n_jobs = -1,verbose = 1)\n",
    "\n",
    "clf.fit(standard_train_df,y_train)\n",
    "\n",
    "\n",
    "#confusion matrix\n",
    "new_predictions=clf.predict(standard_test_df)\n",
    "cnf_mat=confusion_matrix(y_true=y_test,y_pred=new_predictions,labels=['stable','unstable'])\n",
    "print(cnf_mat)\n",
    "\n",
    "#accuracy\n",
    "accuracy=accuracy_score(y_true=y_test,y_pred=new_predictions)\n",
    "print('Accuracy: {}'.format(round(accuracy*100),2))\n",
    "\n",
    "#precision\n",
    "precision=precision_score(y_true=y_test,y_pred=new_predictions, pos_label='unstable')\n",
    "print('precision:{}'.format(round(precision*100),2))\n",
    "\n",
    "#recall\n",
    "recall=recall_score(y_true=y_test,y_pred=new_predictions,pos_label='unstable')\n",
    "print('Recall:{}'.format(round(recall*100),2))\n",
    "\n",
    "#\n",
    "f1=f1_score(y_true=y_test,y_pred=new_predictions,pos_label='unstable')\n",
    "print('F1:{}'.format(round(f1*100),2))"
   ]
  },
  {
   "cell_type": "markdown",
   "metadata": {},
   "source": [
    "## QUESTION 18"
   ]
  },
  {
   "cell_type": "code",
   "execution_count": 7,
   "metadata": {},
   "outputs": [
    {
     "name": "stdout",
     "output_type": "stream",
     "text": [
      "[[ 606  106]\n",
      " [  38 1250]]\n",
      "Accuracy: 93\n",
      "precision:92\n",
      "Recall:97\n",
      "F1:95\n"
     ]
    }
   ],
   "source": [
    "#EXTRA TREES CLASSIFIER\n",
    "\n",
    "etc=ExtraTreesClassifier(random_state=1)\n",
    "etc.fit(standard_train_df,y_train)\n",
    "\n",
    "\n",
    "#confusion matrix\n",
    "new_predictions=etc.predict(standard_test_df)\n",
    "cnf_mat=confusion_matrix(y_true=y_test,y_pred=new_predictions,labels=['stable','unstable'])\n",
    "print(cnf_mat)\n",
    "\n",
    "#accuracy\n",
    "accuracy=accuracy_score(y_true=y_test,y_pred=new_predictions)\n",
    "print('Accuracy: {}'.format(round(accuracy*100),2))\n",
    "\n",
    "#precision\n",
    "precision=precision_score(y_true=y_test,y_pred=new_predictions, pos_label='unstable')\n",
    "print('precision:{}'.format(round(precision*100),2))\n",
    "\n",
    "#recall\n",
    "recall=recall_score(y_true=y_test,y_pred=new_predictions,pos_label='unstable')\n",
    "print('Recall:{}'.format(round(recall*100),2))\n",
    "\n",
    "#\n",
    "f1=f1_score(y_true=y_test,y_pred=new_predictions,pos_label='unstable')\n",
    "print('F1:{}'.format(round(f1*100),2))"
   ]
  },
  {
   "cell_type": "markdown",
   "metadata": {},
   "source": [
    "QUESTION 20"
   ]
  },
  {
   "cell_type": "code",
   "execution_count": 8,
   "metadata": {},
   "outputs": [
    {
     "data": {
      "text/plain": [
       "p1      0.039507\n",
       "p2      0.040371\n",
       "p4      0.040579\n",
       "p3      0.040706\n",
       "g1      0.089783\n",
       "g2      0.093676\n",
       "g4      0.094019\n",
       "g3      0.096883\n",
       "tau3    0.113169\n",
       "tau4    0.115466\n",
       "tau1    0.117397\n",
       "tau2    0.118445\n",
       "dtype: float64"
      ]
     },
     "execution_count": 8,
     "metadata": {},
     "output_type": "execute_result"
    }
   ],
   "source": [
    "#FEATURE IMPOTANCES \n",
    "pd.Series(etc.feature_importances_,index=standard_train_df.columns).sort_values()"
   ]
  },
  {
   "cell_type": "code",
   "execution_count": null,
   "metadata": {},
   "outputs": [],
   "source": []
  }
 ],
 "metadata": {
  "kernelspec": {
   "display_name": "Python 3",
   "language": "python",
   "name": "python3"
  },
  "language_info": {
   "codemirror_mode": {
    "name": "ipython",
    "version": 3
   },
   "file_extension": ".py",
   "mimetype": "text/x-python",
   "name": "python",
   "nbconvert_exporter": "python",
   "pygments_lexer": "ipython3",
   "version": "3.7.8"
  }
 },
 "nbformat": 4,
 "nbformat_minor": 4
}
